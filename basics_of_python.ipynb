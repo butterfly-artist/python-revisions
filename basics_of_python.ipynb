{
  "nbformat": 4,
  "nbformat_minor": 0,
  "metadata": {
    "colab": {
      "provenance": [],
      "authorship_tag": "ABX9TyM6z8cmo9/dseZDTiLHMud2",
      "include_colab_link": true
    },
    "kernelspec": {
      "name": "python3",
      "display_name": "Python 3"
    },
    "language_info": {
      "name": "python"
    }
  },
  "cells": [
    {
      "cell_type": "markdown",
      "metadata": {
        "id": "view-in-github",
        "colab_type": "text"
      },
      "source": [
        "<a href=\"https://colab.research.google.com/github/butterfly-artist/python-revisions/blob/main/basics_of_python.ipynb\" target=\"_parent\"><img src=\"https://colab.research.google.com/assets/colab-badge.svg\" alt=\"Open In Colab\"/></a>"
      ]
    },
    {
      "cell_type": "code",
      "execution_count": null,
      "metadata": {
        "colab": {
          "base_uri": "https://localhost:8080/"
        },
        "id": "ajk927FUpbpQ",
        "outputId": "e85588a5-2833-4fec-e60b-87a7697eff55"
      },
      "outputs": [
        {
          "output_type": "stream",
          "name": "stdout",
          "text": [
            "hello world\n"
          ]
        }
      ],
      "source": [
        "print(\"hello world\")"
      ]
    },
    {
      "cell_type": "code",
      "source": [
        "name=\"students name\"\n",
        "print(\"welcome\", name)"
      ],
      "metadata": {
        "colab": {
          "base_uri": "https://localhost:8080/"
        },
        "id": "WA9_I1gHp30x",
        "outputId": "cb87d55b-c2f2-436b-b38a-a5bd71348219"
      },
      "execution_count": null,
      "outputs": [
        {
          "output_type": "stream",
          "name": "stdout",
          "text": [
            "welcome students name\n"
          ]
        }
      ]
    },
    {
      "cell_type": "code",
      "source": [
        "name1=input()\n",
        "print(\"entered name is \",name1)\n",
        "college= float(input(\"Percentage\"))\n",
        "print(\"college percentage is\", college)"
      ],
      "metadata": {
        "colab": {
          "base_uri": "https://localhost:8080/"
        },
        "id": "332i3bGasU9q",
        "outputId": "ef35aa0f-a888-491c-f8f6-f587d17748fc"
      },
      "execution_count": null,
      "outputs": [
        {
          "output_type": "stream",
          "name": "stdout",
          "text": [
            "madhu\\\\\n",
            "entered name is  madhu\\\\\n",
            "Percentage8.88\n",
            "college percentage is 8.88\n"
          ]
        }
      ]
    },
    {
      "cell_type": "code",
      "source": [
        "x=22\n",
        "y=33\n",
        "print(\"x=\",x,\"y=\",y)\n",
        "y=x\n",
        "print(\"x=\",x,\"y=\",y)\n",
        "print(\"type of x is:\",type(x))\n",
        "print(type(\"t\"))\n",
        "print(type(12.777))\n",
        "print(\"student \\t is \\t late\")"
      ],
      "metadata": {
        "colab": {
          "base_uri": "https://localhost:8080/"
        },
        "id": "cT9Oidk1t5H9",
        "outputId": "c2e2c76d-9923-4cfb-bd9a-edee42d4923f"
      },
      "execution_count": null,
      "outputs": [
        {
          "output_type": "stream",
          "name": "stdout",
          "text": [
            "x= 22 y= 33\n",
            "x= 22 y= 22\n",
            "type of x is: <class 'int'>\n",
            "<class 'str'>\n",
            "<class 'float'>\n",
            "student \t is \t late\n"
          ]
        }
      ]
    },
    {
      "cell_type": "markdown",
      "source": [],
      "metadata": {
        "id": "f3rKOlp_p3Q8"
      }
    },
    {
      "cell_type": "code",
      "source": [
        "#many initalizations\n",
        "x,y,z=10,20,30\n",
        "print(x,y,z)\n",
        "#one to many\n",
        "a=b=c=33\n",
        "print(a,b,c)\n",
        "print(bin(14))\n",
        "print(oct(14))\n",
        "print(hex(14))"
      ],
      "metadata": {
        "colab": {
          "base_uri": "https://localhost:8080/"
        },
        "id": "nW08UR3LvWnZ",
        "outputId": "30b03f7d-5268-4347-ea11-f8926d9a0269"
      },
      "execution_count": null,
      "outputs": [
        {
          "output_type": "stream",
          "name": "stdout",
          "text": [
            "10 20 30\n",
            "33 33 33\n",
            "0b1110\n",
            "0o16\n",
            "0xe\n"
          ]
        }
      ]
    },
    {
      "cell_type": "code",
      "source": [
        "#swapping of two numbers\n",
        "m=10\n",
        "n=22\n",
        "print(m,n)\n",
        "m,n=n,m\n",
        "print(m,n)"
      ],
      "metadata": {
        "colab": {
          "base_uri": "https://localhost:8080/"
        },
        "id": "zroVvJ5mvtiR",
        "outputId": "737e32a4-5413-48d0-e667-bce29f77f544"
      },
      "execution_count": null,
      "outputs": [
        {
          "output_type": "stream",
          "name": "stdout",
          "text": [
            "10 22\n",
            "22 10\n"
          ]
        }
      ]
    },
    {
      "cell_type": "code",
      "source": [
        "#swapping\n",
        "a=22\n",
        "b=33\n",
        "c=44\n",
        "temp=None\n",
        "print(a,b,c)\n",
        "temp=a\n",
        "a=c\n",
        "c=b\n",
        "b=temp\n",
        "print(a,b,c)"
      ],
      "metadata": {
        "colab": {
          "base_uri": "https://localhost:8080/"
        },
        "id": "UtcrOzWX2bQC",
        "outputId": "ea945136-19da-42ae-f11d-1d9bc1ed4467"
      },
      "execution_count": null,
      "outputs": [
        {
          "output_type": "stream",
          "name": "stdout",
          "text": [
            "22 33 44\n",
            "44 22 33\n"
          ]
        }
      ]
    },
    {
      "cell_type": "code",
      "source": [
        "#caluclator program\n",
        "num1=int(input(\"Enter num 1:\"))\n",
        "num2=int(input(\"enter num2:\"))\n",
        "print(\"Enter 1 for add\")\n",
        "print(\"Enter 2 for sub\")\n",
        "print(\"Enter 3 for div\")\n",
        "print(\"Enter 4 for mul\")\n",
        "print(\"Enter 5 to 10 for other opertors as well for rem\")\n",
        "enter=int(input(\"choice\"))\n",
        "if enter==1:\n",
        "  print(\"add\",num1+num2)\n",
        "elif enter==2:\n",
        "  print(\"sub\",num1-num2)\n",
        "elif enter== 3:\n",
        "  print(\"div\",num1/num2)\n",
        "elif enter== 4:\n",
        "  print(\"mul\",num1*num2)\n",
        "elif enter==5:\n",
        "  print(\"rem\",num1%num2)\n",
        "elif enter==6:\n",
        "  print(\"round\", num1//num2)\n",
        "elif enter==7:\n",
        "  print(\"equal\",num1==num2)\n",
        "elif enter==8:\n",
        "  print(\"greater or equal \",num1>=num2)\n",
        "elif enter==9:\n",
        "  print(\"less or eql\",num1<=num2)\n",
        "elif enter==10:\n",
        "  print(\"greater or lesser \",num1>num2)"
      ],
      "metadata": {
        "colab": {
          "base_uri": "https://localhost:8080/"
        },
        "id": "Gl4o3hAXxfVs",
        "outputId": "e0e1b8f2-232f-4159-aa80-ed446e05ef07"
      },
      "execution_count": null,
      "outputs": [
        {
          "output_type": "stream",
          "name": "stdout",
          "text": [
            "Enter num 1:5\n",
            "enter num2:7\n",
            "Enter 1 for add\n",
            "Enter 2 for sub\n",
            "Enter 3 for div\n",
            "Enter 4 for mul\n",
            "Enter 5 to 10 for other opertors as well for rem\n",
            "choice7\n",
            "equal False\n"
          ]
        }
      ]
    },
    {
      "cell_type": "code",
      "source": [
        "#to find the area of the cirle and rectangle\n",
        "import math\n",
        "n1=int(input(\"enter radius of area \"))\n",
        "area=math.pi*n1*n1\n",
        "print(\"area circle:\",area)\n",
        "length=int(input(\"enter length; \"))\n",
        "width=int(input('width; '))\n",
        "area2=length*width\n",
        "print(\"Area rectangel:\",area2)"
      ],
      "metadata": {
        "colab": {
          "base_uri": "https://localhost:8080/"
        },
        "id": "rVk3Iud02bva",
        "outputId": "6e43c518-089d-418b-d034-f661ec141287"
      },
      "execution_count": null,
      "outputs": [
        {
          "output_type": "stream",
          "name": "stdout",
          "text": [
            "enter radius of area 5\n",
            "area circle: 78.53981633974483\n",
            "enter length; 6\n",
            "width; 78\n",
            "Area rectangel: 468\n"
          ]
        }
      ]
    },
    {
      "cell_type": "code",
      "source": [
        "#print the average of given numbers\n",
        "number1=int(input(\"Enter number1\"))\n",
        "number2=int(input(\"Enter number2\"))\n",
        "number3=int(input(\"Enter number3\"))\n",
        "sums=(number1+number2+number3)/3\n",
        "print(sums)"
      ],
      "metadata": {
        "colab": {
          "base_uri": "https://localhost:8080/"
        },
        "id": "TDuY7HS24XMI",
        "outputId": "fc64dbed-df1a-4d7a-83df-160d6dd1f84a"
      },
      "execution_count": null,
      "outputs": [
        {
          "output_type": "stream",
          "name": "stdout",
          "text": [
            "Enter number16\n",
            "Enter number27\n",
            "Enter number34\n",
            "5.666666666666667\n"
          ]
        }
      ]
    },
    {
      "cell_type": "code",
      "source": [
        "#to print addition of 1st and 4th didgit\n",
        "four=int(input(\"four digit num:\"))\n",
        "num01=four//1000\n",
        "num02=four%10\n",
        "addition=num01+num02\n",
        "print(\"added value of 1st and 4th num is;\",addition)"
      ],
      "metadata": {
        "colab": {
          "base_uri": "https://localhost:8080/"
        },
        "id": "SLKGI9KX9uLQ",
        "outputId": "572a863b-7311-45f0-abaf-d918d9806184"
      },
      "execution_count": null,
      "outputs": [
        {
          "output_type": "stream",
          "name": "stdout",
          "text": [
            "four digit num:12345\n",
            "added value of 1st and 4th num is; 17\n"
          ]
        }
      ]
    },
    {
      "cell_type": "code",
      "source": [
        "num12=3+8j\n",
        "print(num12.imag)\n",
        "print(num12.real)\n",
        "a=10\n",
        "b=20\n",
        "print(\"\\n a+b=\",a+b)\n",
        "print(\"\\n {}+{}={}\".format(a,b,a+b))\n",
        "print(\"\\n pow {},{}={}\".format(3,4,3**4))"
      ],
      "metadata": {
        "colab": {
          "base_uri": "https://localhost:8080/"
        },
        "id": "FbOGWm1SBKfD",
        "outputId": "924fcf7e-9d09-42aa-a404-7abfd077d555"
      },
      "execution_count": null,
      "outputs": [
        {
          "output_type": "stream",
          "name": "stdout",
          "text": [
            "8.0\n",
            "3.0\n",
            "\n",
            " a+b= 30\n",
            "\n",
            " 10+20=30\n",
            "\n",
            " pow 3,4=81\n"
          ]
        }
      ]
    },
    {
      "cell_type": "code",
      "source": [
        "a,b,c,d=10,20,30,40\n",
        "print(a,b,c,d,sep=\" @ \", end=\"#\")\n"
      ],
      "metadata": {
        "colab": {
          "base_uri": "https://localhost:8080/"
        },
        "id": "2XLHGk6yCZyb",
        "outputId": "8e41044e-9f1d-461b-c4f4-720c472a52d4"
      },
      "execution_count": null,
      "outputs": [
        {
          "output_type": "stream",
          "name": "stdout",
          "text": [
            "10 @ 20 @ 30 @ 40#"
          ]
        }
      ]
    },
    {
      "cell_type": "code",
      "source": [
        "#list of data type\n",
        "int123=[\"one\",\"two\",\"three\",\"four\"]\n",
        "print(type(int123))\n",
        "int1234={\"hello\":\"world\",\"good\":\"morning\",\"good\":\"night\"}\n",
        "print(type(int1234))\n",
        "int12345=(\"one\",\"two\",\"three\",\"four\")\n",
        "print(type(int12345))"
      ],
      "metadata": {
        "colab": {
          "base_uri": "https://localhost:8080/"
        },
        "id": "e-731DiEEptI",
        "outputId": "355b0345-bc17-4772-bd57-83df457fffc1"
      },
      "execution_count": null,
      "outputs": [
        {
          "output_type": "stream",
          "name": "stdout",
          "text": [
            "<class 'list'>\n",
            "<class 'dict'>\n",
            "<class 'tuple'>\n"
          ]
        }
      ]
    },
    {
      "cell_type": "code",
      "source": [
        "from typing import Counter\n",
        "#methods of lists\n",
        "Li1=[1,5,8,66,9,6,3,12,54,63,71,4]\n",
        "print(Li1[5])\n",
        "print(Li1[3:9:2])\n",
        "print(Li1[5:7])\n",
        "print(Li1[::-1])\n",
        "print(Li1[::])\n",
        "Li1[2]=20\n",
        "print(Li1)\n",
        "print(len(Li1))\n",
        "print(sum(Li1))\n",
        "print(sorted(Li1))\n",
        "print(sorted(Li1, reverse=True))\n",
        "print(45 not in Li1)\n",
        "print(55 in Li1)\n",
        "l1=[12,43]\n",
        "l1.append(34)\n",
        "print(l1)\n",
        "l1.extend(Li1)\n",
        "l1.extend([1,4,7,9,34,3432])\n",
        "print(l1)\n",
        "l1.insert(4,222)\n",
        "print(l1)\n",
        "print(l1.pop())\n",
        "print(l1)\n",
        "print(l1.pop(2))\n",
        "print(l1)\n",
        "l1.remove(222)\n",
        "print(l1)\n",
        "print(l1.count(9))"
      ],
      "metadata": {
        "colab": {
          "base_uri": "https://localhost:8080/"
        },
        "id": "5M6ICcrUEheC",
        "outputId": "1be3f8e2-6280-459d-d03b-c8d5e70a88ea"
      },
      "execution_count": null,
      "outputs": [
        {
          "output_type": "stream",
          "name": "stdout",
          "text": [
            "6\n",
            "[66, 6, 12]\n",
            "[6, 3]\n",
            "[4, 71, 63, 54, 12, 3, 6, 9, 66, 8, 5, 1]\n",
            "[1, 5, 8, 66, 9, 6, 3, 12, 54, 63, 71, 4]\n",
            "[1, 5, 20, 66, 9, 6, 3, 12, 54, 63, 71, 4]\n",
            "12\n",
            "314\n",
            "[1, 3, 4, 5, 6, 9, 12, 20, 54, 63, 66, 71]\n",
            "[71, 66, 63, 54, 20, 12, 9, 6, 5, 4, 3, 1]\n",
            "True\n",
            "False\n",
            "[12, 43, 34]\n",
            "[12, 43, 34, 1, 5, 20, 66, 9, 6, 3, 12, 54, 63, 71, 4, 1, 4, 7, 9, 34, 3432]\n",
            "[12, 43, 34, 1, 222, 5, 20, 66, 9, 6, 3, 12, 54, 63, 71, 4, 1, 4, 7, 9, 34, 3432]\n",
            "3432\n",
            "[12, 43, 34, 1, 222, 5, 20, 66, 9, 6, 3, 12, 54, 63, 71, 4, 1, 4, 7, 9, 34]\n",
            "34\n",
            "[12, 43, 1, 222, 5, 20, 66, 9, 6, 3, 12, 54, 63, 71, 4, 1, 4, 7, 9, 34]\n",
            "[12, 43, 1, 5, 20, 66, 9, 6, 3, 12, 54, 63, 71, 4, 1, 4, 7, 9, 34]\n",
            "2\n"
          ]
        }
      ]
    },
    {
      "cell_type": "code",
      "source": [
        "l2=5>3 and 5>2\n",
        "print(l2)\n",
        "l3=5<3 or 1>2\n",
        "print(l3)"
      ],
      "metadata": {
        "colab": {
          "base_uri": "https://localhost:8080/"
        },
        "id": "omZ9gzdqTnfl",
        "outputId": "51d11bd7-a24a-4e48-ecc2-9c41135d2436"
      },
      "execution_count": null,
      "outputs": [
        {
          "output_type": "stream",
          "name": "stdout",
          "text": [
            "True\n",
            "False\n"
          ]
        }
      ]
    },
    {
      "cell_type": "code",
      "source": [
        "x=int(input(\"enter any num\"))\n",
        "if x==10:\n",
        "  print(\"x=10\")\n",
        "else:\n",
        "  print('x is not eqal to 10')"
      ],
      "metadata": {
        "colab": {
          "base_uri": "https://localhost:8080/"
        },
        "id": "ryuzIkfPUZfI",
        "outputId": "dc6853b8-1df2-4e0d-f0b5-dc7196e59f5d"
      },
      "execution_count": null,
      "outputs": [
        {
          "output_type": "stream",
          "name": "stdout",
          "text": [
            "enter any num33\n",
            "x is not eqal to 10\n"
          ]
        }
      ]
    },
    {
      "cell_type": "code",
      "source": [
        "x=[2,87,53,9,23,8,61]\n",
        "for i in range(0,8):\n",
        "  print(x)"
      ],
      "metadata": {
        "colab": {
          "base_uri": "https://localhost:8080/"
        },
        "id": "J2oiE_RTYb06",
        "outputId": "46be5a14-c3d3-4d55-9c98-88bdf8acd817"
      },
      "execution_count": null,
      "outputs": [
        {
          "output_type": "stream",
          "name": "stdout",
          "text": [
            "[2, 87, 53, 9, 23, 8, 61]\n",
            "[2, 87, 53, 9, 23, 8, 61]\n",
            "[2, 87, 53, 9, 23, 8, 61]\n",
            "[2, 87, 53, 9, 23, 8, 61]\n",
            "[2, 87, 53, 9, 23, 8, 61]\n",
            "[2, 87, 53, 9, 23, 8, 61]\n",
            "[2, 87, 53, 9, 23, 8, 61]\n",
            "[2, 87, 53, 9, 23, 8, 61]\n"
          ]
        }
      ]
    },
    {
      "cell_type": "code",
      "source": [
        "b=[]\n",
        "sum=0\n",
        "n=int(input('enter num'))\n",
        "for i in range(0,n):\n",
        "  ele=int(input(\"enter the ele:\"))\n",
        "  b.append(ele)\n",
        "print(\"list ele areL\")\n",
        "for i in range(0,n):\n",
        "  print(b[i],end=\"\\t\")\n",
        "  sum=sum+b[i]\n",
        "  print(\"sum ais\",sum)"
      ],
      "metadata": {
        "colab": {
          "base_uri": "https://localhost:8080/"
        },
        "id": "jWzpx8Bsd-C3",
        "outputId": "5afdf282-3f1c-45a1-bb76-4b7090592bf0"
      },
      "execution_count": null,
      "outputs": [
        {
          "output_type": "stream",
          "name": "stdout",
          "text": [
            "enter num2\n",
            "enter the ele:32\n",
            "enter the ele:42\n",
            "list ele areL\n",
            "32\tsum ais 32\n",
            "42\tsum ais 74\n"
          ]
        }
      ]
    },
    {
      "cell_type": "code",
      "source": [
        "# to check wheather perfect number or not\n",
        "nm=int(input('enter num:'))\n",
        "sum=0\n",
        "for i in range(1,nm):\n",
        "  if nm % i==0:\n",
        "    sum=sum+i\n",
        "    print(sum)\n",
        "if sum==nm:\n",
        "  print(\"its perfect num\")\n",
        "else:\n",
        "  print(\"its not perfect num\")"
      ],
      "metadata": {
        "colab": {
          "base_uri": "https://localhost:8080/"
        },
        "id": "0tzGVX84glGF",
        "outputId": "b2fdc38f-08b4-41c1-f451-37430881c1e0"
      },
      "execution_count": null,
      "outputs": [
        {
          "output_type": "stream",
          "name": "stdout",
          "text": [
            "enter num:8\n",
            "1\n",
            "3\n",
            "7\n",
            "its not perfect num\n"
          ]
        }
      ]
    },
    {
      "cell_type": "code",
      "source": [],
      "metadata": {
        "id": "i7uVIZU5jr9_"
      },
      "execution_count": null,
      "outputs": []
    }
  ]
}