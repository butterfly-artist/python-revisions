{
  "nbformat": 4,
  "nbformat_minor": 0,
  "metadata": {
    "colab": {
      "provenance": [],
      "authorship_tag": "ABX9TyMZ/b+m2/KCOggz83fohgSB",
      "include_colab_link": true
    },
    "kernelspec": {
      "name": "python3",
      "display_name": "Python 3"
    },
    "language_info": {
      "name": "python"
    }
  },
  "cells": [
    {
      "cell_type": "markdown",
      "metadata": {
        "id": "view-in-github",
        "colab_type": "text"
      },
      "source": [
        "<a href=\"https://colab.research.google.com/github/butterfly-artist/python-revisions/blob/main/basics01.ipynb\" target=\"_parent\"><img src=\"https://colab.research.google.com/assets/colab-badge.svg\" alt=\"Open In Colab\"/></a>"
      ]
    },
    {
      "cell_type": "code",
      "execution_count": null,
      "metadata": {
        "colab": {
          "base_uri": "https://localhost:8080/"
        },
        "id": "T37ou5zSLsCp",
        "outputId": "1c0b1870-85d0-4594-c632-30904d198901"
      },
      "outputs": [
        {
          "output_type": "stream",
          "name": "stdout",
          "text": [
            "96 2.65 7j hello world\n",
            "<class 'int'>\n",
            "<class 'float'>\n",
            "<class 'complex'>\n",
            "<class 'str'>\n",
            "[2, 3, 5, 67] ['apple', 'ball', 'cat', 'dog', 'egg'] ('apple', 'ball', 'cat', 'dog', 'egg') {'apple': 3, 'ball': 8, 'cat': 23, 'dog': 56, 'egg': 4} {'make', 'hello', 'kite'}\n",
            "<class 'list'>\n",
            "<class 'list'>\n",
            "<class 'tuple'>\n",
            "<class 'dict'>\n",
            "<class 'set'>\n"
          ]
        }
      ],
      "source": [
        "a=96\n",
        "b=2.65\n",
        "c=7j\n",
        "d=\"hello world\"\n",
        "print(a,b,c,d)\n",
        "print(type(a))\n",
        "print(type(b))\n",
        "print(type(c))\n",
        "print(type(d))\n",
        "e=[2,3,5,67]\n",
        "f=[\"apple\",\"ball\", \"cat\", \"dog\", \"egg\"]\n",
        "g=(\"apple\",\"ball\", \"cat\", \"dog\", \"egg\")\n",
        "h={\"apple\":3,\"ball\":8, \"cat\":23, \"dog\":56, \"egg\":4}\n",
        "i={\"hello\",\"make\",\"kite\"}\n",
        "print(e,f,g,h,i)\n",
        "print(type(e))\n",
        "print(type(f))\n",
        "print(type(g))\n",
        "print(type(h))\n",
        "print(type(i))"
      ]
    },
    {
      "cell_type": "code",
      "source": [
        "print(\"it's great time\")\n",
        "print(\"it's nice to meet 'her'\")\n",
        "print('let\"s meet her again \"miss\"')\n",
        "print(\"hello there'make some difference'\")"
      ],
      "metadata": {
        "colab": {
          "base_uri": "https://localhost:8080/"
        },
        "id": "BZtjDPwmOXy2",
        "outputId": "fcdfee11-f6c2-485d-bfff-4509e23eac64"
      },
      "execution_count": null,
      "outputs": [
        {
          "output_type": "stream",
          "name": "stdout",
          "text": [
            "it's great time\n",
            "it's nice to meet 'her'\n",
            "let\"s meet her again \"miss\"\n",
            "hello there'make some difference'\n"
          ]
        }
      ]
    },
    {
      "cell_type": "code",
      "source": [
        "for x in c:\n",
        "  print(x)\n",
        "for x in range(1,10):\n",
        "  print(\"hello world!!!\")"
      ],
      "metadata": {
        "colab": {
          "base_uri": "https://localhost:8080/"
        },
        "id": "FW0K7-uYOwqE",
        "outputId": "fead1161-94e7-47ca-acd7-150ff6fd3121"
      },
      "execution_count": null,
      "outputs": [
        {
          "output_type": "stream",
          "name": "stdout",
          "text": [
            "h\n",
            "e\n",
            "l\n",
            "l\n",
            "o\n",
            " \n",
            "m\n",
            "a\n",
            "m\n",
            "\n",
            "\n",
            "i\n",
            "m\n",
            " \n",
            "m\n",
            "a\n",
            "d\n",
            "h\n",
            "u\n",
            "l\n",
            "i\n",
            "k\n",
            "a\n",
            "\n",
            "\n",
            "f\n",
            "u\n",
            "l\n",
            "l\n",
            " \n",
            "o\n",
            "f\n",
            " \n",
            "c\n",
            "r\n",
            "e\n",
            "a\n",
            "t\n",
            "i\n",
            "v\n",
            "i\n",
            "t\n",
            "y\n",
            "hello world!!!\n",
            "hello world!!!\n",
            "hello world!!!\n",
            "hello world!!!\n",
            "hello world!!!\n",
            "hello world!!!\n",
            "hello world!!!\n",
            "hello world!!!\n",
            "hello world!!!\n"
          ]
        }
      ]
    },
    {
      "cell_type": "code",
      "source": [
        "from ast import Index\n",
        "print(c)\n",
        "print(len(c))\n",
        "a=\"hello, world\"\n",
        "b=\"hello world\"\n",
        "d=\"hello,world\"\n",
        "print(len(a))\n",
        "print(len(b))\n",
        "print(len(d))\n",
        "print(\"full\" in c)\n",
        "print(c.index(\"of\"))"
      ],
      "metadata": {
        "colab": {
          "base_uri": "https://localhost:8080/"
        },
        "id": "QBMfkgbDUQrB",
        "outputId": "755b2173-7dba-41ab-967a-dc2e4ed89c8c"
      },
      "execution_count": null,
      "outputs": [
        {
          "output_type": "stream",
          "name": "stdout",
          "text": [
            "hello mam\n",
            "im madhulika\n",
            "full of creativity\n",
            "41\n",
            "12\n",
            "11\n",
            "11\n",
            "True\n",
            "28\n"
          ]
        }
      ]
    },
    {
      "cell_type": "code",
      "source": [
        "po=\"\"\"        SparkCV - AI Resume Builder\n",
        "AI resume builder with real-time editing,ATS optimization for job-ready resume in minutes.\n",
        "NextJS, React, PostgreSQl,Tailwind CSS, Stripe\"\"\"\n",
        "print(po[12:45])\n",
        "print(po[5:70:3])\n",
        "print(po[:20])\n",
        "print(po[::])\n",
        "print(po[::-1])\n",
        "print(po.upper())\n",
        "print(po.lower())\n",
        "print(len(po))\n",
        "print(po.strip())\n",
        "print(po.split())"
      ],
      "metadata": {
        "colab": {
          "base_uri": "https://localhost:8080/"
        },
        "id": "Zo6y7kR-X4Fb",
        "outputId": "5a13f5fe-4986-4f61-d891-5367512a80ee"
      },
      "execution_count": null,
      "outputs": [
        {
          "output_type": "stream",
          "name": "stdout",
          "text": [
            "kCV - AI Resume Builder\n",
            "AI resume\n",
            " SrV  seud\n",
            " seud trli \n",
            "        SparkCV - AI\n",
            "        SparkCV - AI Resume Builder\n",
            "AI resume builder with real-time editing,ATS optimization for job-ready resume in minutes.\n",
            "NextJS, React, PostgreSQl,Tailwind CSS, Stripe\n",
            "epirtS ,SSC dniwliaT,lQSergtsoP ,tcaeR ,SJtxeN\n",
            ".setunim ni emuser ydaer-boj rof noitazimitpo STA,gnitide emit-laer htiw redliub emuser IA\n",
            "redliuB emuseR IA - VCkrapS        \n",
            "        SPARKCV - AI RESUME BUILDER\n",
            "AI RESUME BUILDER WITH REAL-TIME EDITING,ATS OPTIMIZATION FOR JOB-READY RESUME IN MINUTES.\n",
            "NEXTJS, REACT, POSTGRESQL,TAILWIND CSS, STRIPE\n",
            "        sparkcv - ai resume builder\n",
            "ai resume builder with real-time editing,ats optimization for job-ready resume in minutes.\n",
            "nextjs, react, postgresql,tailwind css, stripe\n",
            "173\n",
            "SparkCV - AI Resume Builder\n",
            "AI resume builder with real-time editing,ATS optimization for job-ready resume in minutes.\n",
            "NextJS, React, PostgreSQl,Tailwind CSS, Stripe\n",
            "['        SparkCV - AI Resume Builder\\nAI resume builder with real-time editing', 'ATS optimization for job-ready resume in minutes.\\nNextJS', ' React', ' PostgreSQl', 'Tailwind CSS', ' Stripe']\n"
          ]
        }
      ]
    },
    {
      "cell_type": "code",
      "source": [
        "'''hello there\n",
        "lets meet agan soon\n",
        "and make some difference\n",
        "'''\n",
        "a=\"hii kitty\"\n",
        "print(a)\n",
        "b=\"i know you are Ox kitty\"\n",
        "print(a+b)\n",
        "c=\"\"\"hello mam\n",
        "im madhulika\n",
        "full of creativity\"\"\"\n",
        "print(c)"
      ],
      "metadata": {
        "colab": {
          "base_uri": "https://localhost:8080/"
        },
        "id": "SWNzipEfOwwE",
        "outputId": "5e24de84-2c7e-4286-fb48-dba45821af41"
      },
      "execution_count": null,
      "outputs": [
        {
          "output_type": "stream",
          "name": "stdout",
          "text": [
            "hii kitty\n",
            "hii kittyi know you are Ox kitty\n",
            "hello mam\n",
            "im madhulika\n",
            "full of creativity\n"
          ]
        }
      ]
    },
    {
      "cell_type": "code",
      "source": [
        "#format strings\n",
        "age=24\n",
        "txt=f\"hello with age {age},\"\n",
        "print(txt)\n",
        "co=f\"printing the output of{age}\"\n",
        "print(co)"
      ],
      "metadata": {
        "colab": {
          "base_uri": "https://localhost:8080/"
        },
        "id": "nR-xRv8GiE65",
        "outputId": "088fe67e-8321-4824-b85b-7ba86be24888"
      },
      "execution_count": null,
      "outputs": [
        {
          "output_type": "stream",
          "name": "stdout",
          "text": [
            "hello with age 24,\n",
            "printing the output of24\n"
          ]
        }
      ]
    },
    {
      "cell_type": "code",
      "source": [
        "class Dog:\n",
        "  species=\"canine\"\n",
        "  def __init__(self,name,age):\n",
        "    self.name=name\n",
        "    self.age=age\n",
        "  print(species)"
      ],
      "metadata": {
        "colab": {
          "base_uri": "https://localhost:8080/"
        },
        "id": "nfSNczWogNsY",
        "outputId": "3fe67625-96bb-4ce5-b34f-215a46a9a786"
      },
      "execution_count": null,
      "outputs": [
        {
          "output_type": "stream",
          "name": "stdout",
          "text": [
            "canine\n"
          ]
        }
      ]
    },
    {
      "cell_type": "code",
      "source": [
        "class Dog:\n",
        "  species=\"canine\"\n",
        "  def __init__(self,name,age):\n",
        "    self.name=name\n",
        "    self.age=age\n",
        "dog1=Dog(\"buddy\",3)\n",
        "print(dog1.age)\n",
        "print(dog1.name)\n",
        "print(dog1.species)"
      ],
      "metadata": {
        "colab": {
          "base_uri": "https://localhost:8080/"
        },
        "id": "nScSonLGhRAu",
        "outputId": "6ad0d63f-d3bc-4a33-f916-739ad772d7e1"
      },
      "execution_count": null,
      "outputs": [
        {
          "output_type": "stream",
          "name": "stdout",
          "text": [
            "3\n",
            "buddy\n",
            "canine\n"
          ]
        }
      ]
    },
    {
      "cell_type": "code",
      "source": [
        "class Aeroplane:\n",
        "  def __init__(self,name):\n",
        "    self.name=name\n",
        "  def display_name(self):\n",
        "    print(f\"dog's name:{self.name}\")\n",
        "class Airlines(Aeroplane):\n",
        "  def sound(self):\n",
        "    print(\"hello\")\n",
        "lab=Airlines(\"buddy\")\n",
        "lab.display_name()\n",
        "lab.sound()\n",
        "class Guide(Airlines):\n",
        "  def guide(self):\n",
        "    print(f\"{self.name}guide dog the ways!!\")\n",
        "class Friend:\n",
        "  def greet(self):\n",
        "    print(\"frinendy!!\")\n",
        "class GoldenRet(Aeroplane,Friend):\n",
        "  def sound(self):\n",
        "    print(\"goledn retriver\")\n",
        "lab=Airlines(\"buddy buddy\")\n",
        "lab.display_name()\n",
        "lab.sound()\n",
        "guid_dog=Guide(\"max\")\n",
        "guid_dog.display_name()\n",
        "guid_dog.guide()\n",
        "\n",
        "retriever=GoldenRet(\"charles\")\n",
        "retriever.display_name()\n",
        "retriever.greet()\n",
        "retriever.sound()\n"
      ],
      "metadata": {
        "colab": {
          "base_uri": "https://localhost:8080/"
        },
        "id": "Mdfj1gFTjKb9",
        "outputId": "c319ebea-c7f3-4311-b7d2-9b38666a2845"
      },
      "execution_count": 2,
      "outputs": [
        {
          "output_type": "stream",
          "name": "stdout",
          "text": [
            "dog's name:buddy\n",
            "hello\n",
            "dog's name:buddy buddy\n",
            "hello\n",
            "dog's name:max\n",
            "maxguide dog the ways!!\n",
            "dog's name:charles\n",
            "frinendy!!\n",
            "goledn retriver\n"
          ]
        }
      ]
    },
    {
      "cell_type": "code",
      "source": [],
      "metadata": {
        "id": "iY4L8_OYrrGG"
      },
      "execution_count": null,
      "outputs": []
    },
    {
      "cell_type": "code",
      "source": [],
      "metadata": {
        "id": "UwgtLykOrrBN"
      },
      "execution_count": null,
      "outputs": []
    },
    {
      "cell_type": "code",
      "source": [],
      "metadata": {
        "id": "ulkldby8rq8m"
      },
      "execution_count": null,
      "outputs": []
    },
    {
      "cell_type": "code",
      "source": [],
      "metadata": {
        "id": "sHFUyv64rq4O"
      },
      "execution_count": null,
      "outputs": []
    },
    {
      "cell_type": "code",
      "source": [],
      "metadata": {
        "id": "GakHrTGCrqdh"
      },
      "execution_count": null,
      "outputs": []
    },
    {
      "cell_type": "code",
      "source": [],
      "metadata": {
        "id": "RoMCaqABk1BL"
      },
      "execution_count": null,
      "outputs": []
    }
  ]
}