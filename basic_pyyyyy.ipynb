{
  "nbformat": 4,
  "nbformat_minor": 0,
  "metadata": {
    "colab": {
      "provenance": [],
      "authorship_tag": "ABX9TyPXhPlv2lKMvVbspUdggXNK",
      "include_colab_link": true
    },
    "kernelspec": {
      "name": "python3",
      "display_name": "Python 3"
    },
    "language_info": {
      "name": "python"
    }
  },
  "cells": [
    {
      "cell_type": "markdown",
      "metadata": {
        "id": "view-in-github",
        "colab_type": "text"
      },
      "source": [
        "<a href=\"https://colab.research.google.com/github/butterfly-artist/python-revisions/blob/main/basic_pyyyyy.ipynb\" target=\"_parent\"><img src=\"https://colab.research.google.com/assets/colab-badge.svg\" alt=\"Open In Colab\"/></a>"
      ]
    },
    {
      "cell_type": "code",
      "execution_count": null,
      "metadata": {
        "colab": {
          "base_uri": "https://localhost:8080/"
        },
        "id": "IQA2WMa9WLXJ",
        "outputId": "8a207d85-5f90-4b4c-d9c6-22b105dc4b2a"
      },
      "outputs": [
        {
          "output_type": "stream",
          "name": "stdout",
          "text": [
            "['hello', 'myself', 'madhu', 'lika', 'feel', 'free', 'to', 'talk', 'with', 'me', 'anytime']\n",
            "<class 'list'>\n",
            "{'with', 'talk', 'madhu', 'hello', 'lika', 'feel', 'free', 'me', 'to', 'anytime', 'myself'}\n",
            "<class 'set'>\n",
            "{8, 2, 3, 6}\n",
            "<class 'set'>\n",
            "{1: 'apple', 2: 'ball', 3: 'cat', 4: 'dog'}\n",
            "<class 'dict'>\n",
            "{'Name': 'Madhulika', 'age': 17, 'gender': 'female'}\n",
            "<class 'dict'>\n",
            "{'a': 'CSE', 'b': 'section', 'c': 'ACE'}\n",
            "<class 'dict'>\n",
            "11\n",
            "11\n",
            "4\n",
            "3\n"
          ]
        }
      ],
      "source": [
        "l1=[\"hello\",\"myself\",\"madhu\",\"lika\",\"feel\",\"free\",\"to\",\"talk\",\"with\",\"me\",\"anytime\"]\n",
        "print(l1)\n",
        "print(type(l1))\n",
        "l2={\"hello\",\"myself\",\"madhu\",\"lika\",\"feel\",\"free\",\"to\",\"talk\",\"with\",\"me\",\"madhu\",\"anytime\"}\n",
        "print(l2)\n",
        "print(type(l2))\n",
        "s1={2,3,6,2,8}\n",
        "print(s1)\n",
        "print(type(s1))\n",
        "d={1:\"apple\",2:\"ball\",3:\"cat\",4:\"dog\"}\n",
        "print(d)\n",
        "print(type(d))\n",
        "d1={\"Name\":\"Madhulika\",\"age\":17,\"gender\":\"female\"}\n",
        "print(d1)\n",
        "print(type(d1))\n",
        "d2=dict(a=\"CSE\",b=\"section\",c=\"ACE\")\n",
        "print(d2)\n",
        "print(type(d2))\n",
        "print(len(l1))\n",
        "print(len(l2))\n",
        "print(len(s1))\n",
        "print(len(d1))"
      ]
    },
    {
      "cell_type": "code",
      "source": [
        "d3=dict(d=\"madhulika\",key=\"values\")\n",
        "print(d3[\"key\"])\n",
        "print(type(d3))\n",
        "print(d3.get(\"key\"))\n",
        "d3[\"age\"]=17\n",
        "d3[\"d\"]=\"rama\"\n",
        "print(d3)\n",
        "key,val=d3.popitem()\n",
        "print(f\"key:{key},value:{val}\")\n",
        "d3.clear()\n",
        "print(d3)"
      ],
      "metadata": {
        "colab": {
          "base_uri": "https://localhost:8080/"
        },
        "id": "RScEP545Zo60",
        "outputId": "284f4f9a-f883-4cbf-9b25-b423d8806dbf"
      },
      "execution_count": null,
      "outputs": [
        {
          "output_type": "stream",
          "name": "stdout",
          "text": [
            "values\n",
            "<class 'dict'>\n",
            "values\n",
            "{'d': 'rama', 'key': 'values', 'age': 17}\n",
            "key:age,value:17\n",
            "{}\n"
          ]
        }
      ]
    },
    {
      "cell_type": "code",
      "source": [
        "d1={\"Name\":\"Madhulika\",\"age\":17,\"gender\":\"female\"}\n",
        "del d1[\"age\"]\n",
        "print(d1)\n",
        "va= d1.pop(\"Name\")\n",
        "print(va)"
      ],
      "metadata": {
        "colab": {
          "base_uri": "https://localhost:8080/"
        },
        "id": "DBzgfb8Xb6-M",
        "outputId": "55dc7b2a-c880-4a99-ba6f-92986e5a0749"
      },
      "execution_count": null,
      "outputs": [
        {
          "output_type": "stream",
          "name": "stdout",
          "text": [
            "{'Name': 'Madhulika', 'gender': 'female'}\n",
            "Madhulika\n"
          ]
        }
      ]
    },
    {
      "cell_type": "code",
      "source": [
        "print(d2)\n",
        "for key in d2:\n",
        "  print(key)"
      ],
      "metadata": {
        "colab": {
          "base_uri": "https://localhost:8080/"
        },
        "id": "rqXpGRlmefF7",
        "outputId": "2d2d2082-f4cd-414b-81f4-82cbafec8a02"
      },
      "execution_count": null,
      "outputs": [
        {
          "output_type": "stream",
          "name": "stdout",
          "text": [
            "{'a': 'CSE', 'b': 'section', 'c': 'ACE'}\n",
            "a\n",
            "b\n",
            "c\n"
          ]
        }
      ]
    },
    {
      "cell_type": "code",
      "source": [
        "for key in d2:\n",
        "  print(d2[key])\n",
        "print(\"\\n\")\n",
        "for value in d2.values():\n",
        "  print(value)\n",
        "print(\"\\n\")\n",
        "for key,value in d2.items():\n",
        "  print(f\"key:{key}, values:{value}\")"
      ],
      "metadata": {
        "colab": {
          "base_uri": "https://localhost:8080/"
        },
        "id": "3XFfniQYe3-f",
        "outputId": "5a4b827e-968b-4c42-aef3-25fa06a5cc9e"
      },
      "execution_count": null,
      "outputs": [
        {
          "output_type": "stream",
          "name": "stdout",
          "text": [
            "CSE\n",
            "section\n",
            "ACE\n",
            "\n",
            "\n",
            "CSE\n",
            "section\n",
            "ACE\n",
            "\n",
            "\n",
            "key:a, values:CSE\n",
            "key:b, values:section\n",
            "key:c, values:ACE\n"
          ]
        }
      ]
    },
    {
      "cell_type": "code",
      "source": [
        "d={1:\"apple\",\"Name\":\"Madhulika\",\"age\":17,\"gender\":\"female\",12:{'a': 'CSE', 'b': 'section', 'c': 'ACE'}}\n",
        "print(d)\n",
        "print(len(d))\n",
        "print(d.keys())\n",
        "print(d.values())\n",
        "print(list(d.items()))"
      ],
      "metadata": {
        "colab": {
          "base_uri": "https://localhost:8080/"
        },
        "id": "hdN2iGBNgN19",
        "outputId": "50ca8a2b-3297-4e44-f538-bce67e5e99c8"
      },
      "execution_count": null,
      "outputs": [
        {
          "output_type": "stream",
          "name": "stdout",
          "text": [
            "{1: 'apple', 'Name': 'Madhulika', 'age': 17, 'gender': 'female', 12: {'a': 'CSE', 'b': 'section', 'c': 'ACE'}}\n",
            "5\n",
            "dict_keys([1, 'Name', 'age', 'gender', 12])\n",
            "dict_values(['apple', 'Madhulika', 17, 'female', {'a': 'CSE', 'b': 'section', 'c': 'ACE'}])\n",
            "[(1, 'apple'), ('Name', 'Madhulika'), ('age', 17), ('gender', 'female'), (12, {'a': 'CSE', 'b': 'section', 'c': 'ACE'})]\n"
          ]
        }
      ]
    },
    {
      "cell_type": "code",
      "source": [
        "a=[1,4,6,2,8]\n",
        "res=[val**2 for val in a]\n",
        "print(res)\n",
        "res=[val*2 for val in a]\n",
        "print(res)\n",
        "res=[val%2==0 for val in a]\n",
        "print(res)\n",
        "\n",
        "res=[val for val in a if val%2==0]\n",
        "print(res)"
      ],
      "metadata": {
        "colab": {
          "base_uri": "https://localhost:8080/"
        },
        "id": "agqJ3PgcidLM",
        "outputId": "88a3e6cf-de70-4d46-da6a-d13dff1a4e2f"
      },
      "execution_count": null,
      "outputs": [
        {
          "output_type": "stream",
          "name": "stdout",
          "text": [
            "[1, 16, 36, 4, 64]\n",
            "[2, 8, 12, 4, 16]\n",
            "[False, True, True, True, True]\n",
            "[4, 6, 2, 8]\n"
          ]
        }
      ]
    },
    {
      "cell_type": "code",
      "source": [
        "#lamda\n",
        "n=lambda x: x**2\n",
        "print(n(4))\n"
      ],
      "metadata": {
        "colab": {
          "base_uri": "https://localhost:8080/"
        },
        "id": "Aqx0awUSluaJ",
        "outputId": "e4e1aa76-dde1-460f-c27a-476894581af8"
      },
      "execution_count": null,
      "outputs": [
        {
          "output_type": "stream",
          "name": "stdout",
          "text": [
            "16\n"
          ]
        }
      ]
    },
    {
      "cell_type": "code",
      "source": [
        "n=lambda x:\"positive\" if x>0  else \"neg\" if x<0 else \"zero\"\n",
        "print(n(5))"
      ],
      "metadata": {
        "colab": {
          "base_uri": "https://localhost:8080/"
        },
        "id": "ysnPNJ65oFz5",
        "outputId": "d9befd01-5516-407f-c2cc-44daa81b9ed3"
      },
      "execution_count": null,
      "outputs": [
        {
          "output_type": "stream",
          "name": "stdout",
          "text": [
            "positive\n"
          ]
        }
      ]
    },
    {
      "cell_type": "code",
      "source": [
        "l1=[1,3,5,7,9,11]\n",
        "squre=map(lambda x:x**2,l1)\n",
        "\n",
        "print(list(squre))"
      ],
      "metadata": {
        "colab": {
          "base_uri": "https://localhost:8080/"
        },
        "id": "4nUzxQdGo8lt",
        "outputId": "e48fa9b9-a013-4453-d59a-2105a2b4905e"
      },
      "execution_count": null,
      "outputs": [
        {
          "output_type": "stream",
          "name": "stdout",
          "text": [
            "[1, 9, 25, 49, 81, 121]\n"
          ]
        }
      ]
    },
    {
      "cell_type": "code",
      "source": [
        "l1=[1,3,4,9,3,5,7,9,11]\n",
        "squre=filter(lambda x:x%2==0,l1)\n",
        "\n",
        "print(list(squre))"
      ],
      "metadata": {
        "colab": {
          "base_uri": "https://localhost:8080/"
        },
        "id": "q-ZljCw7p7Cp",
        "outputId": "e38ce12b-ec72-40df-a668-48e00d3c50fe"
      },
      "execution_count": null,
      "outputs": [
        {
          "output_type": "stream",
          "name": "stdout",
          "text": [
            "[4]\n"
          ]
        }
      ]
    },
    {
      "cell_type": "code",
      "source": [
        "l1=[1,3,5,7,9,11]\n",
        "squre=filter(lambda x:x**2,l1)\n",
        "print(list(squre))"
      ],
      "metadata": {
        "colab": {
          "base_uri": "https://localhost:8080/"
        },
        "id": "6KyWwmzQr5IW",
        "outputId": "7a06cbb0-79bf-49a1-bf2f-7733d169e4b6"
      },
      "execution_count": null,
      "outputs": [
        {
          "output_type": "stream",
          "name": "stdout",
          "text": [
            "[1, 3, 5, 7, 9, 11]\n"
          ]
        }
      ]
    },
    {
      "cell_type": "code",
      "source": [
        "#write a python program to convert keys to values and values to keys\n"
      ],
      "metadata": {
        "id": "I_hTNINKsesA"
      },
      "execution_count": null,
      "outputs": []
    },
    {
      "cell_type": "code",
      "source": [
        "from functools import reduce\n",
        "a=[1,3,4,6,7]\n",
        "b=reduce(lambda x,y:x*y,a)\n",
        "print(b)"
      ],
      "metadata": {
        "colab": {
          "base_uri": "https://localhost:8080/"
        },
        "id": "sJDHTMDvtdL7",
        "outputId": "8141b74a-7877-47c3-82a9-80d86f296ac7"
      },
      "execution_count": null,
      "outputs": [
        {
          "output_type": "stream",
          "name": "stdout",
          "text": [
            "504\n"
          ]
        }
      ]
    }
  ]
}